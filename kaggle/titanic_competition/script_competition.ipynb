{
 "cells": [
  {
   "cell_type": "code",
   "execution_count": 57,
   "metadata": {},
   "outputs": [
    {
     "name": "stdout",
     "output_type": "stream",
     "text": [
      "<class 'pandas.core.frame.DataFrame'>\n",
      "RangeIndex: 891 entries, 0 to 890\n",
      "Data columns (total 12 columns):\n",
      " #   Column       Non-Null Count  Dtype  \n",
      "---  ------       --------------  -----  \n",
      " 0   passengerid  891 non-null    int64  \n",
      " 1   survived     891 non-null    int64  \n",
      " 2   pclass       891 non-null    int64  \n",
      " 3   name         891 non-null    object \n",
      " 4   sex          891 non-null    object \n",
      " 5   age          714 non-null    float64\n",
      " 6   sibsp        891 non-null    int64  \n",
      " 7   parch        891 non-null    int64  \n",
      " 8   ticket       891 non-null    object \n",
      " 9   fare         891 non-null    float64\n",
      " 10  cabin        204 non-null    object \n",
      " 11  embarked     889 non-null    object \n",
      "dtypes: float64(2), int64(5), object(5)\n",
      "memory usage: 83.7+ KB\n",
      "None\n",
      "<class 'pandas.core.frame.DataFrame'>\n",
      "RangeIndex: 418 entries, 0 to 417\n",
      "Data columns (total 11 columns):\n",
      " #   Column       Non-Null Count  Dtype  \n",
      "---  ------       --------------  -----  \n",
      " 0   passengerid  418 non-null    int64  \n",
      " 1   pclass       418 non-null    int64  \n",
      " 2   name         418 non-null    object \n",
      " 3   sex          418 non-null    object \n",
      " 4   age          332 non-null    float64\n",
      " 5   sibsp        418 non-null    int64  \n",
      " 6   parch        418 non-null    int64  \n",
      " 7   ticket       418 non-null    object \n",
      " 8   fare         417 non-null    float64\n",
      " 9   cabin        91 non-null     object \n",
      " 10  embarked     418 non-null    object \n",
      "dtypes: float64(2), int64(4), object(5)\n",
      "memory usage: 36.0+ KB\n",
      "None\n"
     ]
    }
   ],
   "source": [
    "# Om te importen moet je een terminal openen (vs code) en de volende code invullen: py -m pip install numpy\n",
    "import pandas as pd\n",
    "import numpy as np\n",
    "import matplotlib as plt\n",
    "\n",
    "pd.set_option(\"display.max.columns\", None) #Make sure all columns are showed\n",
    "\n",
    "df_train = pd.read_csv(\"H:/Mijn documenten/Python/kaggle/titanic_competition/train.csv\")\n",
    "df_test = pd.read_csv(\"H:/Mijn documenten/Python/kaggle/titanic_competition/test.csv\")\n",
    "df_train.columns = df_train.columns.str.lower()\n",
    "df_test.columns = df_test.columns.str.lower()\n",
    "\n",
    "print(df_train.info())\n",
    "print(df_test.info())"
   ]
  },
  {
   "cell_type": "markdown",
   "metadata": {},
   "source": [
    "## Restructure data"
   ]
  },
  {
   "cell_type": "code",
   "execution_count": 69,
   "metadata": {},
   "outputs": [
    {
     "name": "stdout",
     "output_type": "stream",
     "text": [
      "<class 'pandas.core.series.Series'>\n",
      "RangeIndex: 891 entries, 0 to 890\n",
      "Series name: age\n",
      "Non-Null Count  Dtype  \n",
      "--------------  -----  \n",
      "714 non-null    float64\n",
      "dtypes: float64(1)\n",
      "memory usage: 7.1 KB\n",
      "male      577\n",
      "female    314\n",
      "Name: sex_cat, dtype: int64\n",
      "category\n"
     ]
    }
   ],
   "source": [
    "# Categoriseren\n",
    "cat_list =  [\"sex\", \"pclass\", \"embarked\"]\n",
    "for x in cat_list:\n",
    "  df_train[x] = df_train[x].astype(\"category\")\n"
   ]
  },
  {
   "cell_type": "code",
   "execution_count": 73,
   "metadata": {},
   "outputs": [],
   "source": [
    "# Groeperen:\n",
    "## Age -> agegroups\n",
    "df_train.age.describe()\n",
    "\n",
    "bins = [0, 24.999, 74.999, 100]\n",
    "group_names = [1,2,3]\n",
    "df_train['age_group'] = pd.cut(df_train['age'], bins, labels=group_names)\n",
    "\n"
   ]
  },
  {
   "cell_type": "code",
   "execution_count": null,
   "metadata": {},
   "outputs": [],
   "source": [
    "# Check kinderen onder 18 en relatie tot ouders\n",
    "\n",
    "ft = df_train.sex_cat.value_counts()\n",
    "pd.crosstab(index=df_train['survived'], columns=df_train['sex_cat'],\n",
    " dropna=False, normalize=False, margins = True, margins_name= \"Total\")\n",
    "\n",
    "dt = df_train.sex_cat.dtype"
   ]
  },
  {
   "cell_type": "code",
   "execution_count": null,
   "metadata": {},
   "outputs": [],
   "source": []
  }
 ],
 "metadata": {
  "kernelspec": {
   "display_name": "Python 3.10.5 ('.venv': venv)",
   "language": "python",
   "name": "python3"
  },
  "language_info": {
   "codemirror_mode": {
    "name": "ipython",
    "version": 3
   },
   "file_extension": ".py",
   "mimetype": "text/x-python",
   "name": "python",
   "nbconvert_exporter": "python",
   "pygments_lexer": "ipython3",
   "version": "3.10.5"
  },
  "orig_nbformat": 4,
  "vscode": {
   "interpreter": {
    "hash": "e8cbfa162ee10c8a1f25049b98117746c723c8d8e139558d4a8d5fe268257176"
   }
  }
 },
 "nbformat": 4,
 "nbformat_minor": 2
}
