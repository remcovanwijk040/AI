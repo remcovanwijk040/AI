{
 "cells": [
  {
   "cell_type": "markdown",
   "metadata": {},
   "source": [
    "## Setup"
   ]
  },
  {
   "cell_type": "code",
   "execution_count": 2,
   "metadata": {},
   "outputs": [
    {
     "ename": "ModuleNotFoundError",
     "evalue": "No module named 'pandas'",
     "output_type": "error",
     "traceback": [
      "\u001b[0;31m---------------------------------------------------------------------------\u001b[0m",
      "\u001b[0;31mModuleNotFoundError\u001b[0m                       Traceback (most recent call last)",
      "Cell \u001b[0;32mIn [2], line 2\u001b[0m\n\u001b[1;32m      1\u001b[0m \u001b[39m# Om te importen moet je een terminal openen (vs code) en de volende code invullen: py -m pip install numpy\u001b[39;00m\n\u001b[0;32m----> 2\u001b[0m \u001b[39mimport\u001b[39;00m \u001b[39mpandas\u001b[39;00m \u001b[39mas\u001b[39;00m \u001b[39mpd\u001b[39;00m\n\u001b[1;32m      3\u001b[0m \u001b[39mimport\u001b[39;00m \u001b[39mnumpy\u001b[39;00m \u001b[39mas\u001b[39;00m \u001b[39mnp\u001b[39;00m\n\u001b[1;32m      4\u001b[0m \u001b[39mimport\u001b[39;00m \u001b[39mmatplotlib\u001b[39;00m \u001b[39mas\u001b[39;00m \u001b[39mplt\u001b[39;00m\n",
      "\u001b[0;31mModuleNotFoundError\u001b[0m: No module named 'pandas'"
     ]
    }
   ],
   "source": [
    "# Om te importen moet je een terminal openen (vs code) en de volende code invullen: py -m pip install numpy\n",
    "import pandas as pd\n",
    "import numpy as np\n",
    "import matplotlib as plt\n",
    "import re\n",
    "\n",
    "pd.set_option(\"display.max.columns\", None) #Make sure all columns are showed\n"
   ]
  },
  {
   "cell_type": "markdown",
   "metadata": {},
   "source": [
    "## Import data"
   ]
  },
  {
   "cell_type": "code",
   "execution_count": 26,
   "metadata": {},
   "outputs": [
    {
     "name": "stdout",
     "output_type": "stream",
     "text": [
      "<class 'pandas.core.frame.DataFrame'>\n",
      "RangeIndex: 891 entries, 0 to 890\n",
      "Data columns (total 12 columns):\n",
      " #   Column       Non-Null Count  Dtype  \n",
      "---  ------       --------------  -----  \n",
      " 0   passengerid  891 non-null    int64  \n",
      " 1   survived     891 non-null    int64  \n",
      " 2   pclass       891 non-null    int64  \n",
      " 3   name         891 non-null    object \n",
      " 4   sex          891 non-null    object \n",
      " 5   age          714 non-null    float64\n",
      " 6   sibsp        891 non-null    int64  \n",
      " 7   parch        891 non-null    int64  \n",
      " 8   ticket       891 non-null    object \n",
      " 9   fare         891 non-null    float64\n",
      " 10  cabin        204 non-null    object \n",
      " 11  embarked     889 non-null    object \n",
      "dtypes: float64(2), int64(5), object(5)\n",
      "memory usage: 83.7+ KB\n",
      "None\n",
      "<class 'pandas.core.frame.DataFrame'>\n",
      "RangeIndex: 418 entries, 0 to 417\n",
      "Data columns (total 11 columns):\n",
      " #   Column       Non-Null Count  Dtype  \n",
      "---  ------       --------------  -----  \n",
      " 0   passengerid  418 non-null    int64  \n",
      " 1   pclass       418 non-null    int64  \n",
      " 2   name         418 non-null    object \n",
      " 3   sex          418 non-null    object \n",
      " 4   age          332 non-null    float64\n",
      " 5   sibsp        418 non-null    int64  \n",
      " 6   parch        418 non-null    int64  \n",
      " 7   ticket       418 non-null    object \n",
      " 8   fare         417 non-null    float64\n",
      " 9   cabin        91 non-null     object \n",
      " 10  embarked     418 non-null    object \n",
      "dtypes: float64(2), int64(4), object(5)\n",
      "memory usage: 36.0+ KB\n",
      "None\n"
     ]
    }
   ],
   "source": [
    "df_train = pd.read_csv(\"https://raw.githubusercontent.com/remcovanwijk040/AI/main/kaggle/titanic_competition/train.csv\")\n",
    "df_test = pd.read_csv(\"https://raw.githubusercontent.com/remcovanwijk040/AI/main/kaggle/titanic_competition/test.csv\")\n",
    "df_train.columns = df_train.columns.str.lower()\n",
    "df_test.columns = df_test.columns.str.lower()\n",
    "\n",
    "print(df_train.info())\n",
    "print(df_test.info())"
   ]
  },
  {
   "cell_type": "markdown",
   "metadata": {},
   "source": [
    "## Check Missings"
   ]
  },
  {
   "cell_type": "code",
   "execution_count": 27,
   "metadata": {},
   "outputs": [
    {
     "name": "stdout",
     "output_type": "stream",
     "text": [
      "passengerid      0\n",
      "survived         0\n",
      "pclass           0\n",
      "name             0\n",
      "sex              0\n",
      "age            177\n",
      "sibsp            0\n",
      "parch            0\n",
      "ticket           0\n",
      "fare             0\n",
      "cabin          687\n",
      "embarked         2\n",
      "dtype: int64\n",
      "passengerid      0\n",
      "pclass           0\n",
      "name             0\n",
      "sex              0\n",
      "age             86\n",
      "sibsp            0\n",
      "parch            0\n",
      "ticket           0\n",
      "fare             1\n",
      "cabin          327\n",
      "embarked         0\n",
      "dtype: int64\n"
     ]
    }
   ],
   "source": [
    "print(df_train.isnull().sum())\n",
    "print(df_test.isnull().sum())\n"
   ]
  },
  {
   "cell_type": "markdown",
   "metadata": {},
   "source": [
    "Cabin en Age hebben veel missings -> Hier moeten we iets mee\n",
    "\n",
    "Missings bij embarked en fare verwijderen we voor het gemak."
   ]
  },
  {
   "cell_type": "code",
   "execution_count": 28,
   "metadata": {},
   "outputs": [
    {
     "name": "stdout",
     "output_type": "stream",
     "text": [
      "passengerid      0\n",
      "survived         0\n",
      "pclass           0\n",
      "name             0\n",
      "sex              0\n",
      "age            177\n",
      "sibsp            0\n",
      "parch            0\n",
      "ticket           0\n",
      "fare             0\n",
      "cabin          687\n",
      "embarked         0\n",
      "dtype: int64\n",
      "passengerid      0\n",
      "pclass           0\n",
      "name             0\n",
      "sex              0\n",
      "age             86\n",
      "sibsp            0\n",
      "parch            0\n",
      "ticket           0\n",
      "fare             0\n",
      "cabin          326\n",
      "embarked         0\n",
      "dtype: int64\n"
     ]
    }
   ],
   "source": [
    "df_train = df_train.dropna(subset=['embarked'])\n",
    "df_test = df_test.dropna(subset=['fare'])\n",
    "\n",
    "print(df_train.isnull().sum())\n",
    "print(df_test.isnull().sum())"
   ]
  },
  {
   "cell_type": "markdown",
   "metadata": {},
   "source": [
    "## Restructure data"
   ]
  },
  {
   "cell_type": "code",
   "execution_count": 35,
   "metadata": {},
   "outputs": [
    {
     "name": "stdout",
     "output_type": "stream",
     "text": [
      "passengerid     [1, 2, 3, 4, 5, 6, 7, 8, 9, 10, 11, 12, 13, 14...\n",
      "survived                                                   [0, 1]\n",
      "pclass                                                  [3, 1, 2]\n",
      "name            [Braund, Mr. Owen Harris, Cumings, Mrs. John B...\n",
      "sex                                                [male, female]\n",
      "age             [22.0, 38.0, 26.0, 35.0, nan, 54.0, 2.0, 27.0,...\n",
      "sibsp                                       [1, 0, 3, 4, 2, 5, 8]\n",
      "parch                                       [0, 1, 2, 5, 3, 4, 6]\n",
      "ticket          [A/5 21171, PC 17599, STON/O2. 3101282, 113803...\n",
      "fare            [7.25, 71.2833, 7.925, 53.1, 8.05, 8.4583, 51....\n",
      "cabin           [nan, C85, C123, E46, G6, C103, D56, A6, C23 C...\n",
      "embarked                                                [S, C, Q]\n",
      "sex_cat                                                    [1, 0]\n",
      "pclass_cat                                              [2, 0, 1]\n",
      "embarked_cat                                            [2, 0, 1]\n",
      "dtype: object\n"
     ]
    }
   ],
   "source": [
    "print(df_train.apply(lambda col: col.unique()))\n",
    "\n",
    "# Verschillende kollomen bevatten nan. Dit wordt niet gelezen als missing dus passen we die aan naar NaN\n",
    "df_train = df_train.replace(\"nan\", \"NaN\")\n"
   ]
  },
  {
   "cell_type": "code",
   "execution_count": 31,
   "metadata": {},
   "outputs": [
    {
     "name": "stdout",
     "output_type": "stream",
     "text": [
      "['female', 'male']\n",
      "[1, 2, 3]\n",
      "['C', 'Q', 'S']\n"
     ]
    }
   ],
   "source": [
    "# Categoriseren\n",
    "from sklearn import preprocessing\n",
    "le = preprocessing.LabelEncoder()\n",
    "cat_list =  [\"sex\", \"pclass\", \"embarked\"]\n",
    "\n",
    "for x in cat_list:\n",
    "  df_train[x + '_cat'] = le.fit_transform(df_train[x])\n",
    "  print(list(le.classes_))\n",
    "  "
   ]
  },
  {
   "cell_type": "code",
   "execution_count": 73,
   "metadata": {},
   "outputs": [],
   "source": [
    "# Groeperen:\n",
    "## Age -> agegroups\n",
    "df_train.age.describe()\n",
    "\n",
    "bins = [0, 24.999, 74.999, 100]\n",
    "group_names = [1,2,3]\n",
    "df_train['age_group'] = pd.cut(df_train['age'], bins, labels=group_names)\n",
    "\n"
   ]
  },
  {
   "cell_type": "code",
   "execution_count": null,
   "metadata": {},
   "outputs": [],
   "source": [
    "# Check kinderen onder 18 en relatie tot ouders\n",
    "\n",
    "ft = df_train.sex_cat.value_counts()\n",
    "pd.crosstab(index=df_train['survived'], columns=df_train['sex_cat'],\n",
    " dropna=False, normalize=False, margins = True, margins_name= \"Total\")\n",
    "\n",
    "dt = df_train.sex_cat.dtype"
   ]
  },
  {
   "cell_type": "code",
   "execution_count": 90,
   "metadata": {},
   "outputs": [
    {
     "name": "stdout",
     "output_type": "stream",
     "text": [
      "0                                Braund, Mr. Owen Harris\n",
      "1      Cumings, Mrs. John Bradley (Florence Briggs Th...\n",
      "2                                 Heikkinen, Miss. Laina\n",
      "3           Futrelle, Mrs. Jacques Heath (Lily May Peel)\n",
      "4                               Allen, Mr. William Henry\n",
      "                             ...                        \n",
      "886                                Montvila, Rev. Juozas\n",
      "887                         Graham, Miss. Margaret Edith\n",
      "888             Johnston, Miss. Catherine Helen \"Carrie\"\n",
      "889                                Behr, Mr. Karl Howell\n",
      "890                                  Dooley, Mr. Patrick\n",
      "Name: name, Length: 889, dtype: object\n"
     ]
    },
    {
     "data": {
      "text/plain": [
       "Series([], Name: title_2, dtype: int64)"
      ]
     },
     "execution_count": 90,
     "metadata": {},
     "output_type": "execute_result"
    }
   ],
   "source": [
    "# Exract titel uit naam:\n",
    "print(df_train[\"name\"])\n",
    "df_train[\"title\"] = df_train[\"name\"].str.extract('((?<=,)\\s[a-zA-Z]*)')\n",
    "df_train[\"title\"] = df_train[\"title\"].str.split()\n",
    "\n",
    "df_train['title'] = df_train['title'].str.replace('Ms', 'Miss')\n",
    "\n",
    "df_train.title.value_counts()"
   ]
  },
  {
   "cell_type": "code",
   "execution_count": null,
   "metadata": {},
   "outputs": [],
   "source": []
  }
 ],
 "metadata": {
  "kernelspec": {
   "display_name": "Python 3.10.2 64-bit",
   "language": "python",
   "name": "python3"
  },
  "language_info": {
   "codemirror_mode": {
    "name": "ipython",
    "version": 3
   },
   "file_extension": ".py",
   "mimetype": "text/x-python",
   "name": "python",
   "nbconvert_exporter": "python",
   "pygments_lexer": "ipython3",
   "version": "3.10.2"
  },
  "orig_nbformat": 4,
  "vscode": {
   "interpreter": {
    "hash": "aee8b7b246df8f9039afb4144a1f6fd8d2ca17a180786b69acc140d282b71a49"
   }
  }
 },
 "nbformat": 4,
 "nbformat_minor": 2
}
