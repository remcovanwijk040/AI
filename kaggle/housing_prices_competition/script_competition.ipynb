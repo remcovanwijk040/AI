{
  "nbformat": 4,
  "nbformat_minor": 0,
  "metadata": {
    "colab": {
      "provenance": [],
      "include_colab_link": true
    },
    "kernelspec": {
      "name": "python3",
      "display_name": "Python 3"
    },
    "language_info": {
      "name": "python"
    }
  },
  "cells": [
    {
      "cell_type": "markdown",
      "metadata": {
        "id": "view-in-github",
        "colab_type": "text"
      },
      "source": [
        "<a href=\"https://colab.research.google.com/github/remcovanwijk040/AI/blob/main/kaggle/housing_prices_competition/script_competition.ipynb\" target=\"_parent\"><img src=\"https://colab.research.google.com/assets/colab-badge.svg\" alt=\"Open In Colab\"/></a>"
      ]
    },
    {
      "cell_type": "markdown",
      "source": [
        "# Housing competition kaggle\n"
      ],
      "metadata": {
        "id": "RsJBxpK-vyan"
      }
    },
    {
      "cell_type": "markdown",
      "source": [
        "## Setup"
      ],
      "metadata": {
        "id": "AIr0dvcaATbz"
      }
    },
    {
      "cell_type": "markdown",
      "source": [
        "Link naar competitie: https://www.kaggle.com/competitions/home-data-for-ml-course/overview"
      ],
      "metadata": {
        "id": "8DS8fwvxwMAF"
      }
    },
    {
      "cell_type": "code",
      "source": [
        "# Setup\n",
        "import numpy as np\n",
        "import pandas as pd\n",
        "\n",
        "pd.set_option('display.max_columns', None)\n",
        "pd.set_option('display.max_rows', 100)\n",
        "\n",
        "# Load data\n",
        "url = 'https://raw.githubusercontent.com/remcovanwijk040/AI/main/kaggle/housing_prices_competition/test.csv'\n",
        "test_df = pd.read_csv(url)\n",
        "test_df.columns = test_df.columns.str.lower()\n",
        "\n",
        "url = 'https://raw.githubusercontent.com/remcovanwijk040/AI/main/kaggle/housing_prices_competition/train.csv'\n",
        "train_df = pd.read_csv(url)\n",
        "train_df.columns = train_df.columns.str.lower()"
      ],
      "metadata": {
        "id": "Mv9LxGdswj0a"
      },
      "execution_count": 37,
      "outputs": []
    },
    {
      "cell_type": "markdown",
      "source": [
        "## Feature selection"
      ],
      "metadata": {
        "id": "iJ2W1NOvAcvU"
      }
    },
    {
      "cell_type": "code",
      "source": [
        "from numpy.lib import column_stack\n",
        "# For the ease i start to drop all columns with NA:\n",
        "train_df_adjust = train_df.dropna(axis='columns')\n",
        "list(train_df_adjust.columns)\n",
        "features_all = ['mssubclass', 'mszoning', 'lotarea', 'street', 'lotshape', 'landcontour', 'utilities', 'lotconfig', \n",
        "            'landslope', 'neighborhood', 'condition1', 'condition2', 'bldgtype', 'housestyle',\n",
        "            'overallqual', 'overallcond', 'yearbuilt', 'yearremodadd', 'roofstyle', 'roofmatl', 'exterior1st', 'exterior2nd', 'exterqual',\n",
        "            'extercond', 'foundation', 'bsmtfinsf1','bsmtfinsf2', 'bsmtunfsf', 'totalbsmtsf', 'heating', 'heatingqc', 'centralair', '1stflrsf',\n",
        "             '2ndflrsf', 'lowqualfinsf', 'grlivarea', 'bsmtfullbath', 'bsmthalfbath', 'fullbath', 'halfbath', 'bedroomabvgr', 'kitchenabvgr', 'kitchenqual',\n",
        "             'totrmsabvgrd', 'functional', 'fireplaces', 'garagecars', 'garagearea', 'paveddrive', 'wooddecksf', 'openporchsf', 'enclosedporch', '3ssnporch', 'screenporch',\n",
        "             'poolarea', 'miscval', 'mosold', 'yrsold', 'saletype', 'salecondition']\n",
        "\n",
        "cols=train_df_adjust.select_dtypes(exclude='object').columns.to_list() # make a list of all columns excluding objects\n",
        "\n",
        "features_num = ['mssubclass', 'lotarea', 'overallqual', 'overallcond', 'yearbuilt', 'yearremodadd', 'bsmtfinsf1',\n",
        "                 'bsmtfinsf2', 'bsmtunfsf', 'totalbsmtsf', '1stflrsf', '2ndflrsf', 'lowqualfinsf', 'grlivarea', 'bsmtfullbath',\n",
        "                 'bsmthalfbath', 'fullbath', 'halfbath', 'bedroomabvgr', 'kitchenabvgr', 'totrmsabvgrd', 'fireplaces', 'garagecars',\n",
        "                 'garagearea', 'wooddecksf', 'openporchsf', 'enclosedporch', '3ssnporch', 'screenporch', 'poolarea', 'miscval', 'mosold',\n",
        "                 'yrsold']\n",
        "# The variables in the ele list are not included in the test set after cleaning NA's\n",
        "ele = ['bsmtfinsf1', 'bsmtfinsf2', 'bsmtunfsf', 'totalbsmtsf', 'bsmtfullbath', 'bsmthalfbath', 'garagecars', 'garagearea']\n",
        "features_num_filter = set(features_num) - set(ele)\n",
        "\n",
        "#Excluding categorical features for now\n",
        "#from sklearn import preprocessing\n",
        "#le = preprocessing.LabelEncoder()\n",
        "#for i in cols:\n",
        "#if train_df_adjust[i].dtypes=='object':\n",
        "#      train_df_adjust[i] = pd.factorize(train_df_adjust[i])[0]\n",
        "                             "
      ],
      "metadata": {
        "id": "b8-fnoNbAh3F"
      },
      "execution_count": 38,
      "outputs": []
    },
    {
      "cell_type": "markdown",
      "source": [
        "## Build the model"
      ],
      "metadata": {
        "id": "bfULVqeZFjot"
      }
    },
    {
      "cell_type": "code",
      "source": [
        "# Defining x and y\n",
        "y = train_df_adjust[\"saleprice\"]\n",
        "x = train_df_adjust[features_num_filter]\n",
        "\n",
        "#Splitting the data\n",
        "from sklearn.model_selection import train_test_split\n",
        "x_train, x_test, y_train, y_test = train_test_split(x, y, test_size=0.2, random_state=1)\n",
        "\n",
        "# Feature Scaling\n",
        "from sklearn.preprocessing import StandardScaler\n",
        "sc = StandardScaler()\n",
        "x_train = sc.fit_transform(x_train)\n",
        "x_test = sc.transform(x_test)\n",
        "\n",
        "# Train the algoritm\n",
        "from sklearn.ensemble import RandomForestRegressor\n",
        "\n",
        "from sklearn.model_selection import GridSearchCV\n",
        "regressor = RandomForestRegressor(random_state = 1)\n",
        "param_grid = {\n",
        "   'n_estimators': [10, 110, 200, 500],\n",
        "   'max_features': ['auto', 'sqrt', 'log2'],\n",
        "   'max_depth' : [5, 20, 60],\n",
        "   'criterion' :['squared_error', 'absolute_error']\n",
        "}\n",
        "#GSCV = GridSearchCV(estimator=regressor, param_grid=param_grid, cv=5)\n",
        "#GSCV.fit(x_train, y_train)\n",
        "#GSCV.best_params_ \n",
        "\n",
        "#{'criterion': 'squared_error',\n",
        "# 'max_depth': 60,\n",
        "# 'max_features': 'sqrt',\n",
        "# 'n_estimators': 500}\n",
        "\n",
        "\n",
        "# Evaluate the final model\n",
        "from sklearn import metrics\n",
        "\n",
        "random_forest = RandomForestRegressor(random_state = 1, n_estimators = 500, max_features='sqrt', max_depth=60, criterion = 'squared_error')\n",
        "random_forest.fit(x_train, y_train)\n",
        "y_pred = random_forest.predict(x_test)\n",
        "print('MAE: ', metrics.mean_absolute_error(y_test, y_pred))\n",
        "print('MSE: ', metrics.mean_squared_error(y_test, y_pred)) \n",
        "\n",
        "\n",
        "# In sklearn, you can easily perform that using an oob_score = True parameter. If set to True, this parameter makes Random Forest Regressor use “out-of-bag” samples to estimate the R^2 on unseen data. If you get a value of more than 0.75, it means your model does not overfit (the best possible score is equal to 1)\n",
        "random_forest_out_of_bag = RandomForestRegressor(oob_score=True)\n",
        "random_forest_out_of_bag.fit(x_train, y_train)\n",
        "print(random_forest_out_of_bag.oob_score_) \n"
      ],
      "metadata": {
        "colab": {
          "base_uri": "https://localhost:8080/"
        },
        "id": "XdhEn8ZDFi2l",
        "outputId": "fdf031c7-5951-42fa-cba9-9f2e1249f1df"
      },
      "execution_count": 39,
      "outputs": [
        {
          "output_type": "stream",
          "name": "stdout",
          "text": [
            "MAE:  17856.028331050227\n",
            "MSE:  842297335.4030315\n",
            "0.8125939081855472\n"
          ]
        }
      ]
    },
    {
      "cell_type": "markdown",
      "source": [
        "## Apply the model"
      ],
      "metadata": {
        "id": "IjTnFYAhi91m"
      }
    },
    {
      "cell_type": "code",
      "source": [
        "# Adjust test data\n",
        "from numpy.lib import column_stack\n",
        "  # For the ease i start to drop all columns with NA:\n",
        "test_df_adjust = test_df.dropna(axis='columns')\n",
        "\n",
        "# Define x\n",
        "x = test_df_adjust[features_num_filter]\n",
        "\n",
        "# Feature Scaling\n",
        "from sklearn.preprocessing import StandardScaler\n",
        "sc = StandardScaler()\n",
        "x_test = sc.transform(x)\n",
        "\n",
        "# Predict salespriceh\n",
        "y_pred_test = random_forest.predict(x_test)\n",
        "\n",
        "display(y_pred_test.describe)\n",
        "\n",
        "result = pd.DataFrame(y_pred_test, columns = ['salesprice'])\n",
        "\n",
        "result\n",
        "\n",
        "test_df"
      ],
      "metadata": {
        "colab": {
          "base_uri": "https://localhost:8080/",
          "height": 166
        },
        "id": "kYX0qN-hi6lY",
        "outputId": "72c5de72-c3fd-4f1c-e370-d2e2dd71c46b"
      },
      "execution_count": 36,
      "outputs": [
        {
          "output_type": "error",
          "ename": "NameError",
          "evalue": "ignored",
          "traceback": [
            "\u001b[0;31m---------------------------------------------------------------------------\u001b[0m",
            "\u001b[0;31mNameError\u001b[0m                                 Traceback (most recent call last)",
            "\u001b[0;32m<ipython-input-36-eb2f3ec1fed9>\u001b[0m in \u001b[0;36m<module>\u001b[0;34m\u001b[0m\n\u001b[0;32m----> 1\u001b[0;31m \u001b[0my_pred_test\u001b[0m \u001b[0;34m=\u001b[0m \u001b[0mrandom_forest\u001b[0m\u001b[0;34m.\u001b[0m\u001b[0mpredict\u001b[0m\u001b[0;34m(\u001b[0m\u001b[0mx_test\u001b[0m\u001b[0;34m)\u001b[0m\u001b[0;34m\u001b[0m\u001b[0;34m\u001b[0m\u001b[0m\n\u001b[0m",
            "\u001b[0;31mNameError\u001b[0m: name 'random_forest' is not defined"
          ]
        }
      ]
    }
  ]
}