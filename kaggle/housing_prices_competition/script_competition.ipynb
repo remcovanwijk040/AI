{
  "nbformat": 4,
  "nbformat_minor": 0,
  "metadata": {
    "colab": {
      "provenance": [],
      "include_colab_link": true
    },
    "kernelspec": {
      "name": "python3",
      "display_name": "Python 3"
    },
    "language_info": {
      "name": "python"
    }
  },
  "cells": [
    {
      "cell_type": "markdown",
      "metadata": {
        "id": "view-in-github",
        "colab_type": "text"
      },
      "source": [
        "<a href=\"https://colab.research.google.com/github/remcovanwijk040/AI/blob/main/kaggle/housing_prices_competition/script_competition.ipynb\" target=\"_parent\"><img src=\"https://colab.research.google.com/assets/colab-badge.svg\" alt=\"Open In Colab\"/></a>"
      ]
    },
    {
      "cell_type": "markdown",
      "source": [
        "# Housing competition kaggle\n"
      ],
      "metadata": {
        "id": "RsJBxpK-vyan"
      }
    },
    {
      "cell_type": "markdown",
      "source": [
        "## Setup"
      ],
      "metadata": {
        "id": "AIr0dvcaATbz"
      }
    },
    {
      "cell_type": "markdown",
      "source": [
        "Link naar competitie: https://www.kaggle.com/competitions/home-data-for-ml-course/overview"
      ],
      "metadata": {
        "id": "8DS8fwvxwMAF"
      }
    },
    {
      "cell_type": "code",
      "source": [
        "# Setup\n",
        "import numpy as np\n",
        "import pandas as pd\n",
        "\n",
        "pd.set_option('display.max_columns', None)\n",
        "pd.set_option('display.max_rows', 100)\n",
        "\n",
        "# Load data\n",
        "url = 'https://raw.githubusercontent.com/remcovanwijk040/AI/main/kaggle/housing_prices_competition/test.csv'\n",
        "test_df = pd.read_csv(url)\n",
        "test_df.columns = test_df.columns.str.lower()\n",
        "\n",
        "url = 'https://raw.githubusercontent.com/remcovanwijk040/AI/main/kaggle/housing_prices_competition/train.csv'\n",
        "train_df = pd.read_csv(url)\n",
        "train_df.columns = train_df.columns.str.lower()"
      ],
      "metadata": {
        "id": "Mv9LxGdswj0a"
      },
      "execution_count": 34,
      "outputs": []
    },
    {
      "cell_type": "markdown",
      "source": [
        "## Feature selection"
      ],
      "metadata": {
        "id": "iJ2W1NOvAcvU"
      }
    },
    {
      "cell_type": "code",
      "source": [
        "from numpy.lib import column_stack\n",
        "# For the ease i start to drop all columns with NA:\n",
        "train_df_adjust = train_df.dropna(axis='columns')\n",
        "list(train_df_adjust.columns)\n",
        "features_all = ['mssubclass', 'mszoning', 'lotarea', 'street', 'lotshape', 'landcontour', 'utilities', 'lotconfig', \n",
        "            'landslope', 'neighborhood', 'condition1', 'condition2', 'bldgtype', 'housestyle',\n",
        "            'overallqual', 'overallcond', 'yearbuilt', 'yearremodadd', 'roofstyle', 'roofmatl', 'exterior1st', 'exterior2nd', 'exterqual',\n",
        "            'extercond', 'foundation', 'bsmtfinsf1','bsmtfinsf2', 'bsmtunfsf', 'totalbsmtsf', 'heating', 'heatingqc', 'centralair', '1stflrsf',\n",
        "             '2ndflrsf', 'lowqualfinsf', 'grlivarea', 'bsmtfullbath', 'bsmthalfbath', 'fullbath', 'halfbath', 'bedroomabvgr', 'kitchenabvgr', 'kitchenqual',\n",
        "             'totrmsabvgrd', 'functional', 'fireplaces', 'garagecars', 'garagearea', 'paveddrive', 'wooddecksf', 'openporchsf', 'enclosedporch', '3ssnporch', 'screenporch',\n",
        "             'poolarea', 'miscval', 'mosold', 'yrsold', 'saletype', 'salecondition']\n",
        "\n",
        "cols=train_df_adjust.select_dtypes(exclude='object').columns.to_list() # make a list of all columns excluding objects\n",
        "\n",
        "features_num = ['mssubclass', 'lotarea', 'overallqual', 'overallcond', 'yearbuilt', 'yearremodadd', 'bsmtfinsf1',\n",
        "                 'bsmtfinsf2', 'bsmtunfsf', 'totalbsmtsf', '1stflrsf', '2ndflrsf', 'lowqualfinsf', 'grlivarea', 'bsmtfullbath',\n",
        "                 'bsmthalfbath', 'fullbath', 'halfbath', 'bedroomabvgr', 'kitchenabvgr', 'totrmsabvgrd', 'fireplaces', 'garagecars',\n",
        "                 'garagearea', 'wooddecksf', 'openporchsf', 'enclosedporch', '3ssnporch', 'screenporch', 'poolarea', 'miscval', 'mosold',\n",
        "                 'yrsold']\n",
        "# The variables in the ele list are not included in the test set after cleaning NA's\n",
        "ele = ['bsmtfinsf1', 'bsmtfinsf2', 'bsmtunfsf', 'totalbsmtsf', 'bsmtfullbath', 'bsmthalfbath', 'garagecars', 'garagearea']\n",
        "features_num_filter = set(features_num) - set(ele)\n",
        "\n",
        "#Excluding categorical features for now\n",
        "#from sklearn import preprocessing\n",
        "#le = preprocessing.LabelEncoder()\n",
        "#for i in cols:\n",
        "#if train_df_adjust[i].dtypes=='object':\n",
        "#      train_df_adjust[i] = pd.factorize(train_df_adjust[i])[0]\n",
        "                             "
      ],
      "metadata": {
        "colab": {
          "base_uri": "https://localhost:8080/"
        },
        "id": "b8-fnoNbAh3F",
        "outputId": "b61825da-a46b-4f57-b45e-5a6d9faa2d3a"
      },
      "execution_count": 67,
      "outputs": [
        {
          "output_type": "stream",
          "name": "stdout",
          "text": [
            "['mssubclass', 'lotarea', 'overallqual', 'overallcond', 'yearbuilt', 'yearremodadd', 'bsmtfinsf1', 'bsmtfinsf2', 'bsmtunfsf', 'totalbsmtsf', '1stflrsf', '2ndflrsf', 'lowqualfinsf', 'grlivarea', 'bsmtfullbath', 'bsmthalfbath', 'fullbath', 'halfbath', 'bedroomabvgr', 'kitchenabvgr', 'totrmsabvgrd', 'fireplaces', 'garagecars', 'garagearea', 'wooddecksf', 'openporchsf', 'enclosedporch', '3ssnporch', 'screenporch', 'poolarea', 'miscval', 'mosold', 'yrsold']\n"
          ]
        }
      ]
    },
    {
      "cell_type": "markdown",
      "source": [
        "## Build the model"
      ],
      "metadata": {
        "id": "bfULVqeZFjot"
      }
    },
    {
      "cell_type": "code",
      "source": [
        "# Defining x and y\n",
        "y = train_df_adjust[\"saleprice\"]\n",
        "x = train_df_adjust[features_num_filter]\n",
        "\n",
        "#Splitting the data\n",
        "from sklearn.model_selection import train_test_split\n",
        "x_train, x_test, y_train, y_test = train_test_split(x, y, test_size=0.2, random_state=1)\n",
        "\n",
        "# Feature Scaling\n",
        "from sklearn.preprocessing import StandardScaler\n",
        "sc = StandardScaler()\n",
        "x_train = sc.fit_transform(x_train)\n",
        "x_test = sc.transform(x_test)\n",
        "\n",
        "# Train the algoritm\n",
        "from sklearn.ensemble import RandomForestRegressor\n",
        "\n",
        "from sklearn.model_selection import GridSearchCV\n",
        "regressor = RandomForestRegressor(random_state = 1)\n",
        "param_grid = {\n",
        "   'n_estimators': [10, 110, 200, 500],\n",
        "   'max_features': ['auto', 'sqrt', 'log2'],\n",
        "   'max_depth' : [5, 20, 60],\n",
        "   'criterion' :['squared_error', 'absolute_error']\n",
        "}\n",
        "#GSCV = GridSearchCV(estimator=regressor, param_grid=param_grid, cv=5)\n",
        "#GSCV.fit(x_train, y_train)\n",
        "#GSCV.best_params_ \n",
        "\n",
        "#{'criterion': 'squared_error',\n",
        "# 'max_depth': 60,\n",
        "# 'max_features': 'sqrt',\n",
        "# 'n_estimators': 500}\n",
        "\n",
        "\n",
        "# Evaluate the final model\n",
        "from sklearn import metrics\n",
        "\n",
        "random_forest = RandomForestRegressor(random_state = 1, n_estimators = 500, max_features='sqrt', max_depth=60, criterion = 'squared_error')\n",
        "random_forest.fit(x_train, y_train)\n",
        "y_pred = random_forest.predict(x_test)\n",
        "print('MAE: ', metrics.mean_absolute_error(y_test, y_pred))\n",
        "print('MSE: ', metrics.mean_squared_error(y_test, y_pred)) \n",
        "\n",
        "\n",
        "# In sklearn, you can easily perform that using an oob_score = True parameter. If set to True, this parameter makes Random Forest Regressor use “out-of-bag” samples to estimate the R^2 on unseen data. If you get a value of more than 0.75, it means your model does not overfit (the best possible score is equal to 1)\n",
        "random_forest_out_of_bag = RandomForestRegressor(oob_score=True)\n",
        "random_forest_out_of_bag.fit(x_train, y_train)\n",
        "print(random_forest_out_of_bag.oob_score_) \n"
      ],
      "metadata": {
        "colab": {
          "base_uri": "https://localhost:8080/"
        },
        "id": "XdhEn8ZDFi2l",
        "outputId": "c3dc68ae-272d-49a0-a96c-60ed26d9ccba"
      },
      "execution_count": 71,
      "outputs": [
        {
          "output_type": "stream",
          "name": "stdout",
          "text": [
            "MAE:  17904.526970319635\n",
            "MSE:  830082907.3712528\n",
            "0.8193607470404908\n"
          ]
        }
      ]
    },
    {
      "cell_type": "markdown",
      "source": [
        "## Apply the model"
      ],
      "metadata": {
        "id": "IjTnFYAhi91m"
      }
    },
    {
      "cell_type": "code",
      "source": [
        "# Adjust test data\n",
        "from numpy.lib import column_stack\n",
        "  # For the ease i start to drop all columns with NA:\n",
        "test_df_adjust = test_df.dropna(axis='columns')\n",
        "\n",
        "cols=train_df_adjust.select_dtypes(exclude='object').columns.to_list() # make a list of all columns excluding objects\n",
        "\n",
        "# Define x\n",
        "x = test_df_adjust[features_num_filter]\n",
        "\n",
        "# Feature Scaling\n",
        "from sklearn.preprocessing import StandardScaler\n",
        "sc = StandardScaler()\n",
        "x_train = sc.fit_transform(x_train)\n",
        "x_test = sc.transform(x_test)\n",
        "\n",
        "# Predict salespriceh\n",
        "y_pred_test = random_forest.predict(x_test)\n",
        "\n",
        "display(y_pred_test)\n"
      ],
      "metadata": {
        "id": "kYX0qN-hi6lY",
        "outputId": "7c250395-e7ae-4f5a-a986-409ed28ea93e",
        "colab": {
          "base_uri": "https://localhost:8080/",
          "height": 1000
        }
      },
      "execution_count": 75,
      "outputs": [
        {
          "output_type": "display_data",
          "data": {
            "text/plain": [
              "array([205914.474     , 181380.834     , 120560.884     ,  82463.618     ,\n",
              "       140832.724     , 300195.37      , 300901.614     , 148207.44      ,\n",
              "       226662.62      , 207826.848     , 178053.92      ,  84457.74      ,\n",
              "       199534.92      , 292596.934     , 220106.772     , 108744.332     ,\n",
              "       112836.816     , 111475.722     , 195270.348     , 142978.604     ,\n",
              "       142438.7       , 135897.04      , 260942.358     , 314987.206     ,\n",
              "        87672.432     , 189514.46      , 132333.488     , 191817.49      ,\n",
              "       462212.074     , 120500.626     , 134862.122     , 111386.404     ,\n",
              "       121389.82      ,  92126.24      , 140428.428     , 335578.238     ,\n",
              "       125848.056     , 102892.75      , 263129.506     , 124472.508     ,\n",
              "       161972.648     , 142185.28      ,  98661.51      , 121192.966     ,\n",
              "       181924.31      , 175561.686     , 119889.116     , 186234.938     ,\n",
              "       268859.262     , 252236.19      , 122406.45      , 322594.952     ,\n",
              "       106493.862     , 250439.82      , 194581.49      , 101893.822     ,\n",
              "       125497.074     , 177608.952     , 127604.77      , 181919.61      ,\n",
              "       160562.33      , 305076.052     ,  97166.854     , 127316.04      ,\n",
              "       157897.688     , 131420.976     , 142571.46      , 226356.414     ,\n",
              "       159063.488     , 166662.064     , 229022.548     , 120517.696     ,\n",
              "       306226.846     , 158667.68      , 155643.258     , 216496.41      ,\n",
              "       173711.872     , 133333.18      , 384569.97      , 190351.772     ,\n",
              "       207326.254     , 134973.254     , 131093.796     , 149401.074     ,\n",
              "       194964.442     , 150823.742     , 151598.178     , 154884.394     ,\n",
              "       205099.772     , 168528.6       , 193711.27133333, 161558.404     ,\n",
              "       124068.184     , 115971.91      , 116883.602     , 136619.536     ,\n",
              "       119079.268     , 139485.274     , 138975.25      , 152906.822     ,\n",
              "       175586.204     , 126434.88      , 113618.956     , 116526.074     ,\n",
              "       127492.734     , 178892.544     , 180225.768     , 156598.994     ,\n",
              "       140038.522     , 320420.53      , 157945.054     , 174500.484     ,\n",
              "       145541.80866667, 198257.24      , 230153.104     , 174149.288     ,\n",
              "       237846.148     , 121253.852     , 166638.534     , 270606.194     ,\n",
              "       139335.934     , 243262.97      , 325682.282     , 165967.266     ,\n",
              "       199881.19      , 173661.832     , 318601.434     , 124009.566     ,\n",
              "       198338.716     , 217443.12      , 269889.37      ,  97774.366     ,\n",
              "       127293.722     , 124279.056     , 101461.024     , 198756.678     ,\n",
              "       506979.8       , 307969.306     , 244331.558     , 128034.758     ,\n",
              "       137227.77      , 262010.742     , 166355.95      , 204537.17      ,\n",
              "       103985.752     , 212875.74      , 113482.366     , 203635.828     ,\n",
              "       221572.998     , 119716.676     , 185741.322     , 172309.558     ,\n",
              "       121978.64      , 181200.776     , 175434.448     , 328839.668     ,\n",
              "       110384.804     , 145659.47      , 116580.682     , 147535.85      ,\n",
              "        81108.96      , 108419.308     , 158549.322     , 142344.614     ,\n",
              "       140586.108     , 142687.25      , 169530.59      , 142511.55      ,\n",
              "       141634.058     , 120262.536     , 237955.176     , 163752.212     ,\n",
              "       244687.666     , 283616.302     , 196814.498     , 131496.312     ,\n",
              "       190343.84      , 205011.032     , 133345.154     , 162626.778     ,\n",
              "       127203.932     , 182579.066     , 145101.272     , 127418.142     ,\n",
              "       273735.28      , 140221.378     , 378593.322     , 294293.868     ,\n",
              "       151537.054     , 125372.816     , 116391.658     , 142293.656     ,\n",
              "        92001.8       , 188942.82      , 114768.684     , 287885.068     ,\n",
              "       222105.638     , 154140.418     , 154983.95      ,  82503.97      ,\n",
              "       194456.57      , 242434.166     , 168025.4       , 177432.592     ,\n",
              "       277508.132     , 111498.616     , 193777.184     , 303830.9       ,\n",
              "       293680.842     , 194232.8       , 198358.944     , 116102.566     ,\n",
              "       168729.396     , 123461.06      , 286337.254     , 263520.912     ,\n",
              "       120977.216     ,  93036.28      , 176776.564     ,  95095.708     ,\n",
              "       511514.002     , 121581.056     , 166327.55      , 196538.426     ,\n",
              "       111164.784     , 116418.952     , 220098.316     , 166996.672     ,\n",
              "       169966.814     , 174892.164     , 127626.6       , 188690.89      ,\n",
              "        98718.042     , 127029.432     , 295822.174     , 127825.75      ,\n",
              "       305103.462     , 118861.364     , 154918.586     , 281486.062     ,\n",
              "       284107.01      , 159498.294     , 125494.018     , 154576.402     ,\n",
              "       124634.956     , 134671.844     , 141920.89      , 146377.604     ,\n",
              "       155647.54      , 146353.008     , 124271.816     , 125610.43      ,\n",
              "       189161.944     , 172348.584     , 134616.906     , 120787.94      ,\n",
              "       183171.712     ,  95651.718     , 319831.976     , 131103.728     ,\n",
              "       210468.108     , 169377.512     , 204503.81      , 174551.512     ,\n",
              "       129428.756     , 193045.968     , 128776.616     , 160228.926     ,\n",
              "       152222.        ,  97583.8       , 182954.57      , 182377.896     ,\n",
              "       112809.796     , 135275.032     , 179708.092     , 135215.492     ,\n",
              "       114891.48      , 127702.608     , 172750.892     , 140126.014     ,\n",
              "       130946.008     , 133369.3       , 134437.708     , 144758.15      ,\n",
              "       249186.946     , 232844.618     , 125799.636     , 110579.156     ,\n",
              "       251564.398     , 121148.372     ,  99444.31      , 274251.358     ])"
            ]
          },
          "metadata": {}
        }
      ]
    }
  ]
}